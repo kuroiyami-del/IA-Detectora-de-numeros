{
 "cells": [
  {
   "cell_type": "code",
   "execution_count": null,
   "id": "f7024890-c445-4baf-ba75-817ee0498979",
   "metadata": {},
   "outputs": [],
   "source": [
    "#Set-ExecutionPolicy -Scope Process -ExecutionPolicy RemoteSigned\n",
    "#Get-ExecutionPolicy"
   ]
  },
  {
   "cell_type": "code",
   "execution_count": 9,
   "id": "c062618b-3d44-464c-bbdd-378140fb1ecb",
   "metadata": {},
   "outputs": [],
   "source": [
    "import pandas as pd\n",
    "import numpy as np\n",
    "from tensorflow.keras.datasets import mnist\n",
    "from tensorflow.keras.models import Sequential\n",
    "from tensorflow.keras.layer import Dense,Flatten"
   ]
  },
  {
   "cell_type": "code",
   "execution_count": null,
   "id": "ed2cd4d1-c65d-411e-859e-192428ddd637",
   "metadata": {},
   "outputs": [],
   "source": [
    "(x_train,y_train),(x_test,y_test)=mnist.load_data()"
   ]
  },
  {
   "cell_type": "code",
   "execution_count": 12,
   "id": "ea19bc97-09d9-4593-abce-fa68fb8065cf",
   "metadata": {},
   "outputs": [
    {
     "name": "stdout",
     "output_type": "stream",
     "text": [
      "Forma de los arrays x: (60000, 28, 28)\n",
      "Forma de los arrays y: (60000,)\n",
      "Forma de los arrays x: (10000, 28, 28)\n",
      "Forma de los arrays y: (10000,)\n"
     ]
    }
   ],
   "source": [
    "#Entrenamiento\n",
    "print(f\"Forma de los arrays x: {x_train.shape}\") # (60000, 28, 28)\n",
    "print(f\"Forma de los arrays y: {y_train.shape}\") # (60000,)\n",
    "\n",
    "#Pruebas\n",
    "print(f\"Forma de los arrays x: {x_test.shape}\") # (10000, 28, 28)\n",
    "print(f\"Forma de los arrays y: {y_test.shape}\") # (10000,)"
   ]
  },
  {
   "cell_type": "code",
   "execution_count": null,
   "id": "f06a3fa0-3e50-41e7-a018-84605a1d97bc",
   "metadata": {},
   "outputs": [],
   "source": [
    "#Normalizar datos\n",
    "x_train = x_train/255.0\n",
    "x_test = x_test/255.0"
   ]
  },
  {
   "cell_type": "code",
   "execution_count": null,
   "id": "f3007360-1820-45aa-ac78-717a775a0c89",
   "metadata": {},
   "outputs": [],
   "source": []
  },
  {
   "cell_type": "code",
   "execution_count": null,
   "id": "8c6babb2-1e34-4005-b45b-3f022ef0bf52",
   "metadata": {},
   "outputs": [],
   "source": []
  },
  {
   "cell_type": "code",
   "execution_count": null,
   "id": "12353757-74cc-4de7-a12d-550e7b5e2fdc",
   "metadata": {},
   "outputs": [],
   "source": []
  },
  {
   "cell_type": "code",
   "execution_count": null,
   "id": "ff9de708-533c-45a2-a43b-ee4ddd0c6ec1",
   "metadata": {},
   "outputs": [],
   "source": []
  },
  {
   "cell_type": "code",
   "execution_count": null,
   "id": "12d4a4f5-0715-4db4-ba90-c4eb8d0b95ac",
   "metadata": {},
   "outputs": [],
   "source": []
  },
  {
   "cell_type": "code",
   "execution_count": null,
   "id": "eb8c5651-b1e7-4843-a479-fa024519795c",
   "metadata": {},
   "outputs": [],
   "source": []
  }
 ],
 "metadata": {
  "kernelspec": {
   "display_name": "Python 3 (ipykernel)",
   "language": "python",
   "name": "python3"
  },
  "language_info": {
   "codemirror_mode": {
    "name": "ipython",
    "version": 3
   },
   "file_extension": ".py",
   "mimetype": "text/x-python",
   "name": "python",
   "nbconvert_exporter": "python",
   "pygments_lexer": "ipython3",
   "version": "3.11.7"
  }
 },
 "nbformat": 4,
 "nbformat_minor": 5
}
